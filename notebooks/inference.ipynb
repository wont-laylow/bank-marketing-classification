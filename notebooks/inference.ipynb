{
 "cells": [
  {
   "cell_type": "code",
   "execution_count": 6,
   "id": "aa8a33fe",
   "metadata": {},
   "outputs": [],
   "source": [
    "import pickle\n",
    "import pandas as pd\n",
    "\n",
    "# Load the model\n",
    "with open('../model/random_forest_model.pkl', 'rb') as f:\n",
    "    model = pickle.load(f)\n",
    "\n",
    "# Load the scaler\n",
    "with open('../model/scaler.pkl', 'rb') as f:\n",
    "    scaler = pickle.load(f)\n",
    "\n",
    "# Load dummy columns\n",
    "with open('../model/dummy_columns.pkl', 'rb') as f:\n",
    "    dummy_columns = pickle.load(f)\n"
   ]
  },
  {
   "cell_type": "code",
   "execution_count": 7,
   "id": "57989214",
   "metadata": {},
   "outputs": [
    {
     "name": "stdout",
     "output_type": "stream",
     "text": [
      "Scaler means: [2.58285010e+02 5.16703591e+03 3.62129081e+00 8.18855006e-02\n",
      " 1.72962999e-01]\n"
     ]
    }
   ],
   "source": [
    "print(\"Scaler means:\", scaler.mean_)  "
   ]
  },
  {
   "cell_type": "code",
   "execution_count": 9,
   "id": "5d170f68",
   "metadata": {},
   "outputs": [],
   "source": [
    "\n",
    "# Example manual input\n",
    "sample_input = {\n",
    "    'job': 'technician',\n",
    "    'marital': 'married',\n",
    "    'education': 'tertiary',\n",
    "    'default': 'no',\n",
    "    'contact': 'cellular',\n",
    "    'month': 'may',\n",
    "    'day_of_week': 'mon',\n",
    "    'poutcome': 'nonexistent',\n",
    "    'duration': 320,\n",
    "    'nr.employed': 5099.1,\n",
    "    'euribor3m': 4.857,\n",
    "    'emp.var.rate': 1.4,\n",
    "    'previous': 0\n",
    "}\n",
    "\n",
    "#"
   ]
  },
  {
   "cell_type": "code",
   "execution_count": 10,
   "id": "48398a73",
   "metadata": {},
   "outputs": [],
   "source": [
    "\n",
    "def predict_subscription(sample_input, model, scaler, dummy_columns):\n",
    "    # Convert to DataFrame\n",
    "    input_df = pd.DataFrame([sample_input])\n",
    "\n",
    "    # One-hot encode categorical features\n",
    "    input_encoded = pd.get_dummies(input_df, columns=[\n",
    "        'job', 'marital', 'education', 'default',\n",
    "        'contact', 'month', 'day_of_week', 'poutcome'\n",
    "    ])\n",
    "\n",
    "    # Add missing dummy columns\n",
    "    for col in dummy_columns:\n",
    "        if col not in input_encoded.columns:\n",
    "            input_encoded[col] = 0\n",
    "\n",
    "    # Reorder columns to match training data\n",
    "    input_encoded = input_encoded[dummy_columns]\n",
    "\n",
    "    # Scale numerical columns\n",
    "    numerical = ['duration', 'nr.employed', 'euribor3m', 'emp.var.rate', 'previous']\n",
    "    input_encoded[numerical] = scaler.transform(input_encoded[numerical])\n",
    "\n",
    "    # Predict\n",
    "    pred = model.predict(input_encoded)[0]\n",
    "    proba = model.predict_proba(input_encoded)[0][1]\n",
    "\n",
    "    # Output\n",
    "    prediction_text = \"Subscribed (1)\" if pred == 1 else \"Not Subscribed (0)\"\n",
    "    print(\"Prediction:\", prediction_text)\n",
    "    print(\"Probability of subscribing:\", round(proba, 4))\n",
    "\n",
    "    return pred, proba\n"
   ]
  },
  {
   "cell_type": "code",
   "execution_count": 11,
   "id": "94ef6fc0",
   "metadata": {},
   "outputs": [
    {
     "name": "stdout",
     "output_type": "stream",
     "text": [
      "Prediction: Not Subscribed (0)\n",
      "Probability of subscribing: 0.17\n"
     ]
    }
   ],
   "source": [
    "pred, proba = predict_subscription(sample_input, model, scaler, dummy_columns)\n"
   ]
  },
  {
   "cell_type": "code",
   "execution_count": null,
   "id": "4394ef63",
   "metadata": {},
   "outputs": [],
   "source": []
  }
 ],
 "metadata": {
  "kernelspec": {
   "display_name": ".venv",
   "language": "python",
   "name": "python3"
  },
  "language_info": {
   "codemirror_mode": {
    "name": "ipython",
    "version": 3
   },
   "file_extension": ".py",
   "mimetype": "text/x-python",
   "name": "python",
   "nbconvert_exporter": "python",
   "pygments_lexer": "ipython3",
   "version": "3.10.11"
  }
 },
 "nbformat": 4,
 "nbformat_minor": 5
}
